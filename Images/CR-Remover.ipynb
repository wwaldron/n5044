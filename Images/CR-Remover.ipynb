{
 "cells": [
  {
   "cell_type": "markdown",
   "metadata": {},
   "source": [
    "# NGC 5044 CR Remover"
   ]
  },
  {
   "cell_type": "markdown",
   "metadata": {},
   "source": [
    "## Imports"
   ]
  },
  {
   "cell_type": "code",
   "execution_count": null,
   "metadata": {},
   "outputs": [],
   "source": [
    "# Python Imports\n",
    "# import os\n",
    "from os import path\n",
    "from glob import iglob\n",
    "\n",
    "# Astropy Colab Imports\n",
    "from astropy.io import fits\n",
    "\n",
    "# Other Astronomy Imports\n",
    "from astroscrappy import detect_cosmics"
   ]
  },
  {
   "cell_type": "markdown",
   "metadata": {},
   "source": [
    "## Notebook Setup"
   ]
  },
  {
   "cell_type": "code",
   "execution_count": null,
   "metadata": {},
   "outputs": [],
   "source": [
    "# Data Directory\n",
    "DATA_DIR = 'mastDownload/HST'\n",
    "\n",
    "# FLC Glob Patter\n",
    "FLC_GLOB_PAT    = path.join(DATA_DIR, '**/*_flc.fits')"
   ]
  },
  {
   "cell_type": "markdown",
   "metadata": {},
   "source": [
    "## Store File Name Data"
   ]
  },
  {
   "cell_type": "code",
   "execution_count": null,
   "metadata": {},
   "outputs": [],
   "source": [
    "# Get the File Names and Sort them by filter\n",
    "fileNameDict = {}\n",
    "for fn in iglob(FLC_GLOB_PAT):\n",
    "\n",
    "    if 'crclean' in fn:\n",
    "        continue\n",
    "\n",
    "    # Open the file to get the filter\n",
    "    with fits.open(fn) as hduList:\n",
    "        hdr = hduList[0].header  # Get the Header\n",
    "        if 'FILTER' in hdr:      # If the FILTER keyword exists (WFC3)\n",
    "            filt = hdr['FILTER']\n",
    "        elif 'CLEAR' not in hdr['FILTER1']:  # If FILTER1 is not clear (ACS)\n",
    "            filt = hdr['FILTER1']\n",
    "        else:                                # Else FILTER2 must be the filter (ACS)\n",
    "            filt = hdr['FILTER2']\n",
    "\n",
    "    # Store the Name using the filter as the dict key\n",
    "    # Start the Empty List if Key does not exist\n",
    "    if filt not in fileNameDict:\n",
    "        fileNameDict[filt] = []\n",
    "    fileNameDict[filt].append(fn)"
   ]
  },
  {
   "cell_type": "markdown",
   "metadata": {},
   "source": [
    "## Remove CRs"
   ]
  },
  {
   "cell_type": "code",
   "execution_count": null,
   "metadata": {},
   "outputs": [],
   "source": [
    "fileNameDict"
   ]
  },
  {
   "cell_type": "markdown",
   "metadata": {},
   "source": [
    "### Remove F814W CRs"
   ]
  },
  {
   "cell_type": "code",
   "execution_count": null,
   "metadata": {},
   "outputs": [],
   "source": [
    "# Set Model Parameters\n",
    "sigclip = 4.5\n",
    "sigfrac = 0.3\n",
    "objlim  = 5.0\n",
    "readnoise = 6.5\n",
    "niter   = 5\n",
    "sepmed  = False\n",
    "\n",
    "# Loop Through Files\n",
    "for fn in fileNameDict['F814W']:\n",
    "\n",
    "    # Out Name\n",
    "    outName = fn.replace('flc.fits', 'crclean_flc.fits')\n",
    "\n",
    "    # Open Image\n",
    "    with fits.open(fn) as hduList:\n",
    "\n",
    "        # Get Cleaned Arrays\n",
    "        print(f'{fn}\\tChip 1')\n",
    "        crmsk1, crarr1 = detect_cosmics(\n",
    "            hduList['SCI', 1].data,\n",
    "            sigclip=sigclip, sigfrac=sigfrac, objlim=objlim,\n",
    "            readnoise=readnoise, niter=niter, sepmed=sepmed,\n",
    "            verbose=True\n",
    "        )\n",
    "        print(f'{fn}\\tChip 2')\n",
    "        crmsk2, crarr2 = detect_cosmics(\n",
    "            hduList['SCI', 2].data,\n",
    "            sigclip=sigclip, sigfrac=sigfrac, objlim=objlim,\n",
    "            readnoise=readnoise, niter=niter, sepmed=sepmed,\n",
    "            verbose=True\n",
    "        )\n",
    "\n",
    "        # Write the Output Data\n",
    "        outList = hduList.copy()  # Copy the Original File\n",
    "        outList[0].header.add_history('CRs removed with AstroScrappy')  # Update comment about processing\n",
    "        outList[0].header.add_comment('Created by Will Waldron, UAH')\n",
    "        outList[0].header.add_comment('Created with pipeline at https://github.com/wwaldron/galred')\n",
    "        outList['SCI', 1].data = crarr1.astype('float32')  # Change the old SCI image for CR Removed img\n",
    "        outList['DQ', 1].data[crmsk1] |= 2  # Mark DQ array as \"Data replaced by fill\"\n",
    "        outList.insert(4, fits.ImageHDU(crmsk1.astype('uint8'), hduList['SCI', 1].header, 'MSK'))\n",
    "        outList['SCI', 2].data = crarr2.astype('float32')\n",
    "        outList['DQ', 2].data[crmsk2] |= 2  # Mark DQ array as \"Data replaced by fill\"\n",
    "        outList.insert(8, fits.ImageHDU(crmsk2.astype('uint8'), hduList['SCI', 2].header, 'MSK'))\n",
    "        outList.writeto(outName, overwrite=True)"
   ]
  },
  {
   "cell_type": "markdown",
   "metadata": {},
   "source": [
    "### Remove F300X CRs"
   ]
  },
  {
   "cell_type": "code",
   "execution_count": null,
   "metadata": {},
   "outputs": [],
   "source": [
    "# Set Model Parameters\n",
    "sigclip = 4.5\n",
    "sigfrac = 0.3\n",
    "objlim  = 5.0\n",
    "readnoise = 6.5\n",
    "niter   = 8\n",
    "sepmed  = False\n",
    "\n",
    "# Loop Through Files\n",
    "for fn in fileNameDict['F300X']:\n",
    "\n",
    "    # Out Name\n",
    "    outName = fn.replace('flc.fits', 'crclean_flc.fits')\n",
    "\n",
    "    # Open Image\n",
    "    with fits.open(fn) as hduList:\n",
    "\n",
    "        # Get Cleaned Arrays\n",
    "        print(f'{fn}\\tChip 1')\n",
    "        crmsk1, crarr1 = detect_cosmics(\n",
    "            hduList['SCI', 1].data,\n",
    "            sigclip=sigclip, sigfrac=sigfrac, objlim=objlim,\n",
    "            readnoise=readnoise, niter=niter, sepmed=sepmed,\n",
    "            verbose=True\n",
    "        )\n",
    "        print(f'{fn}\\tChip 2')\n",
    "        crmsk2, crarr2 = detect_cosmics(\n",
    "            hduList['SCI', 2].data,\n",
    "            sigclip=sigclip, sigfrac=sigfrac, objlim=objlim,\n",
    "            readnoise=readnoise, niter=niter, sepmed=sepmed,\n",
    "            verbose=True\n",
    "        )\n",
    "\n",
    "        # Write the Output Data\n",
    "        outList = hduList.copy()  # Copy the Original File\n",
    "        outList[0].header.add_history('CRs removed with AstroScrappy')  # Update comment about processing\n",
    "        outList[0].header.add_comment('Created by Will Waldron, UAH')\n",
    "        outList[0].header.add_comment('Created with pipeline at https://github.com/wwaldron/galred')\n",
    "        outList['SCI', 1].data = crarr1.astype('float32')  # Change the old SCI image for CR Removed img\n",
    "        outList['DQ', 1].data[crmsk1] |= 2  # Mark DQ array as \"Data replaced by fill\"\n",
    "        outList.insert(4, fits.ImageHDU(crmsk1.astype('uint8'), hduList['SCI', 1].header, 'MSK'))\n",
    "        outList['SCI', 2].data = crarr2.astype('float32')\n",
    "        outList['DQ', 2].data[crmsk2] |= 2  # Mark DQ array as \"Data replaced by fill\"\n",
    "        outList.insert(8, fits.ImageHDU(crmsk2.astype('uint8'), hduList['SCI', 2].header, 'MSK'))\n",
    "        outList.writeto(outName, overwrite=True)"
   ]
  },
  {
   "cell_type": "markdown",
   "metadata": {},
   "source": [
    "### Remove F665N CRs"
   ]
  },
  {
   "cell_type": "code",
   "execution_count": null,
   "metadata": {},
   "outputs": [],
   "source": [
    "# Set Model Parameters\n",
    "sigclip =4.5\n",
    "sigfrac = 0.3\n",
    "objlim  = 5.0\n",
    "readnoise = 6.5\n",
    "niter   = 8\n",
    "sepmed  = False\n",
    "\n",
    "# Loop Through Files\n",
    "for fn in fileNameDict['F665N']:\n",
    "\n",
    "    # Out Name\n",
    "    outName = fn.replace('flc.fits', 'crclean_flc.fits')\n",
    "\n",
    "    # Open Image\n",
    "    with fits.open(fn) as hduList:\n",
    "\n",
    "        # Get Cleaned Arrays\n",
    "        print(f'{fn}\\tChip 1')\n",
    "        crmsk1, crarr1 = detect_cosmics(\n",
    "            hduList['SCI', 1].data,\n",
    "            sigclip=sigclip, sigfrac=sigfrac, objlim=objlim,\n",
    "            readnoise=readnoise, niter=niter, sepmed=sepmed,\n",
    "            verbose=True\n",
    "        )\n",
    "        print(f'{fn}\\tChip 2')\n",
    "        crmsk2, crarr2 = detect_cosmics(\n",
    "            hduList['SCI', 2].data,\n",
    "            sigclip=sigclip, sigfrac=sigfrac, objlim=objlim,\n",
    "            readnoise=readnoise, niter=niter, sepmed=sepmed,\n",
    "            verbose=True\n",
    "        )\n",
    "\n",
    "        # Write the Output Data\n",
    "        outList = hduList.copy()  # Copy the Original File\n",
    "        outList[0].header.add_history('CRs removed with AstroScrappy')  # Update comment about processing\n",
    "        outList[0].header.add_comment('Created by Will Waldron, UAH')\n",
    "        outList[0].header.add_comment('Created with pipeline at https://github.com/wwaldron/galred')\n",
    "        outList['SCI', 1].data = crarr1.astype('float32')  # Change the old SCI image for CR Removed img\n",
    "        outList['DQ', 1].data[crmsk1] |= 2  # Mark DQ array as \"Data replaced by fill\"\n",
    "        outList.insert(4, fits.ImageHDU(crmsk1.astype('uint8'), hduList['SCI', 1].header, 'MSK'))\n",
    "        outList['SCI', 2].data = crarr2.astype('float32')\n",
    "        outList['DQ', 2].data[crmsk2] |= 2  # Mark DQ array as \"Data replaced by fill\"\n",
    "        outList.insert(8, fits.ImageHDU(crmsk2.astype('uint8'), hduList['SCI', 2].header, 'MSK'))\n",
    "        outList.writeto(outName, overwrite=True)"
   ]
  }
 ],
 "metadata": {
  "kernelspec": {
   "display_name": "stenv",
   "language": "python",
   "name": "python3"
  },
  "language_info": {
   "codemirror_mode": {
    "name": "ipython",
    "version": 3
   },
   "file_extension": ".py",
   "mimetype": "text/x-python",
   "name": "python",
   "nbconvert_exporter": "python",
   "pygments_lexer": "ipython3",
   "version": "3.12.5"
  }
 },
 "nbformat": 4,
 "nbformat_minor": 2
}
